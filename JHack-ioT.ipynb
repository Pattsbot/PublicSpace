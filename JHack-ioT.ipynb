{
 "cells": [
  {
   "cell_type": "markdown",
   "metadata": {},
   "source": [
    "# JanataHack: Machine Learning for IoT\n",
    "\n",
    "You are working with the government to transform your city into a smart city. The vision is to convert it into a digital and intelligent city to improve the efficiency of services for the citizens. One of the problems faced by the government is traffic. You are a data scientist working to manage the traffic of the city better and to provide input on infrastructure planning for the future.\n",
    "\n",
    "The government wants to implement a robust traffic system for the city by being prepared for traffic peaks. They want to understand the traffic patterns of the four junctions of the city. Traffic patterns on holidays, as well as on various other occasions during the year, differ from normal working days. This is important to take into account for your forecasting. \n",
    "\n",
    "Your task\n",
    "\n",
    "To predict traffic patterns in each of these four junctions for the next 4 months.\n",
    "\n",
    "The sensors on each of these junctions were collecting data at different times, hence you will see traffic data from different time periods. To add to the complexity, some of the junctions have provided limited or sparse data requiring thoughtfulness when creating future projections. Depending upon the historical data of 20 months, the government is looking to you to deliver accurate traffic projections for the coming four months. Your algorithm will become the foundation of a larger transformation to make your city smart and intelligent."
   ]
  },
  {
   "cell_type": "markdown",
   "metadata": {},
   "source": [
    "# Data Dictionary\n",
    "\n",
    "Variable\tDescription\n",
    "ID\n",
    "\n",
    "Unique ID\n",
    "\n",
    "DateTime\t\n",
    "Hourly Datetime Variable\n",
    "\n",
    "Junction\n",
    "Junction Type\n",
    "\n",
    "Vehicles\n",
    "\n",
    "Number of Vehicles (Target)\n",
    "\n",
    "\n",
    "sample_submission.csv\n",
    "\n",
    "\n",
    "Column Name\tDescription\n",
    "ID\n",
    "\n",
    "Unique ID\n",
    "\n",
    "Vehicles\n",
    "\n",
    "Number of Vehicles (Target)"
   ]
  },
  {
   "cell_type": "markdown",
   "metadata": {},
   "source": [
    "# Evaluation Metric\n",
    "The evaluation metric for this competition is Root Mean Squared Error (RMSE)"
   ]
  },
  {
   "cell_type": "code",
   "execution_count": 75,
   "metadata": {},
   "outputs": [],
   "source": [
    "# import libraries\n",
    "import numpy as np\n",
    "import pandas as pd\n",
    "import matplotlib.pyplot as plt\n",
    "import seaborn as sns\n",
    "from sklearn.model_selection import train_test_split\n",
    "from sklearn.preprocessing import MinMaxScaler,StandardScaler\n",
    "from sklearn.svm import LinearSVC\n",
    "from sklearn.tree import DecisionTreeRegressor\n",
    "from sklearn.ensemble import RandomForestRegressor\n",
    "from xgboost import XGBRegressor\n",
    "import lightgbm as ltb\n",
    "from sklearn.linear_model import LinearRegression\n",
    "from sklearn.preprocessing import PolynomialFeatures\n",
    "from sklearn.neighbors import KNeighborsRegressor\n",
    "from sklearn.linear_model import RidgeCV\n",
    "from mlxtend.regressor import StackingRegressor\n",
    "from sklearn.metrics import mean_squared_error as mse\n",
    "import math\n",
    "%matplotlib inline\n",
    "\n",
    "import warnings\n",
    "warnings.filterwarnings('ignore')"
   ]
  },
  {
   "cell_type": "code",
   "execution_count": 74,
   "metadata": {},
   "outputs": [],
   "source": []
  },
  {
   "cell_type": "code",
   "execution_count": 2,
   "metadata": {},
   "outputs": [],
   "source": [
    "# read the train and test files and explore the data\n",
    "train = pd.read_csv(\"train_aWnotuB.csv\")\n",
    "test  = pd.read_csv(\"test_BdBKkAj_L87Nc3S.csv\")\n",
    "sub   = pd.read_csv(\"sample_submission_KVKNmI7.csv\")"
   ]
  },
  {
   "cell_type": "code",
   "execution_count": 3,
   "metadata": {},
   "outputs": [
    {
     "data": {
      "text/html": [
       "<div>\n",
       "<style scoped>\n",
       "    .dataframe tbody tr th:only-of-type {\n",
       "        vertical-align: middle;\n",
       "    }\n",
       "\n",
       "    .dataframe tbody tr th {\n",
       "        vertical-align: top;\n",
       "    }\n",
       "\n",
       "    .dataframe thead th {\n",
       "        text-align: right;\n",
       "    }\n",
       "</style>\n",
       "<table border=\"1\" class=\"dataframe\">\n",
       "  <thead>\n",
       "    <tr style=\"text-align: right;\">\n",
       "      <th></th>\n",
       "      <th>DateTime</th>\n",
       "      <th>Junction</th>\n",
       "      <th>Vehicles</th>\n",
       "      <th>ID</th>\n",
       "    </tr>\n",
       "  </thead>\n",
       "  <tbody>\n",
       "    <tr>\n",
       "      <th>0</th>\n",
       "      <td>2015-11-01 00:00:00</td>\n",
       "      <td>1</td>\n",
       "      <td>15</td>\n",
       "      <td>20151101001</td>\n",
       "    </tr>\n",
       "    <tr>\n",
       "      <th>1</th>\n",
       "      <td>2015-11-01 01:00:00</td>\n",
       "      <td>1</td>\n",
       "      <td>13</td>\n",
       "      <td>20151101011</td>\n",
       "    </tr>\n",
       "    <tr>\n",
       "      <th>2</th>\n",
       "      <td>2015-11-01 02:00:00</td>\n",
       "      <td>1</td>\n",
       "      <td>10</td>\n",
       "      <td>20151101021</td>\n",
       "    </tr>\n",
       "    <tr>\n",
       "      <th>3</th>\n",
       "      <td>2015-11-01 03:00:00</td>\n",
       "      <td>1</td>\n",
       "      <td>7</td>\n",
       "      <td>20151101031</td>\n",
       "    </tr>\n",
       "    <tr>\n",
       "      <th>4</th>\n",
       "      <td>2015-11-01 04:00:00</td>\n",
       "      <td>1</td>\n",
       "      <td>9</td>\n",
       "      <td>20151101041</td>\n",
       "    </tr>\n",
       "  </tbody>\n",
       "</table>\n",
       "</div>"
      ],
      "text/plain": [
       "              DateTime  Junction  Vehicles           ID\n",
       "0  2015-11-01 00:00:00         1        15  20151101001\n",
       "1  2015-11-01 01:00:00         1        13  20151101011\n",
       "2  2015-11-01 02:00:00         1        10  20151101021\n",
       "3  2015-11-01 03:00:00         1         7  20151101031\n",
       "4  2015-11-01 04:00:00         1         9  20151101041"
      ]
     },
     "execution_count": 3,
     "metadata": {},
     "output_type": "execute_result"
    }
   ],
   "source": [
    "# explore the training data\n",
    "train.head()"
   ]
  },
  {
   "cell_type": "code",
   "execution_count": 4,
   "metadata": {},
   "outputs": [
    {
     "data": {
      "text/plain": [
       "DateTime    object\n",
       "Junction     int64\n",
       "Vehicles     int64\n",
       "ID           int64\n",
       "dtype: object"
      ]
     },
     "execution_count": 4,
     "metadata": {},
     "output_type": "execute_result"
    }
   ],
   "source": [
    "train.dtypes"
   ]
  },
  {
   "cell_type": "code",
   "execution_count": 5,
   "metadata": {},
   "outputs": [
    {
     "data": {
      "text/plain": [
       "DateTime    0\n",
       "Junction    0\n",
       "Vehicles    0\n",
       "ID          0\n",
       "dtype: int64"
      ]
     },
     "execution_count": 5,
     "metadata": {},
     "output_type": "execute_result"
    }
   ],
   "source": [
    "train.isnull().sum()"
   ]
  },
  {
   "cell_type": "code",
   "execution_count": 6,
   "metadata": {},
   "outputs": [],
   "source": [
    "train['DateTime'] = pd.to_datetime(train['DateTime'])"
   ]
  },
  {
   "cell_type": "code",
   "execution_count": 7,
   "metadata": {},
   "outputs": [
    {
     "data": {
      "text/plain": [
       "(Timestamp('2015-11-01 00:00:00'), Timestamp('2017-06-30 23:00:00'))"
      ]
     },
     "execution_count": 7,
     "metadata": {},
     "output_type": "execute_result"
    }
   ],
   "source": [
    "train.DateTime.min(),train.DateTime.max()"
   ]
  },
  {
   "cell_type": "code",
   "execution_count": 8,
   "metadata": {},
   "outputs": [
    {
     "data": {
      "text/plain": [
       "((48120, 4), 48120)"
      ]
     },
     "execution_count": 8,
     "metadata": {},
     "output_type": "execute_result"
    }
   ],
   "source": [
    "train.shape,train.ID.nunique()"
   ]
  },
  {
   "cell_type": "code",
   "execution_count": 9,
   "metadata": {},
   "outputs": [
    {
     "data": {
      "text/plain": [
       "array([1, 2, 3, 4], dtype=int64)"
      ]
     },
     "execution_count": 9,
     "metadata": {},
     "output_type": "execute_result"
    }
   ],
   "source": [
    "train.Junction.unique()"
   ]
  },
  {
   "cell_type": "code",
   "execution_count": 10,
   "metadata": {},
   "outputs": [],
   "source": [
    "def createtimefeatures(df) :\n",
    "    \n",
    "    df['hour']         = df['DateTime'].dt.hour\n",
    "    df['dayofweek']    = df['DateTime'].dt.dayofweek\n",
    "    df['quarter']      = df['DateTime'].dt.quarter\n",
    "    df['month']        = df['DateTime'].dt.month\n",
    "    df['year']         = df['DateTime'].dt.year\n",
    "    df['dayofyear']    = df['DateTime'].dt.dayofyear\n",
    "    df['dayofmonth']   = df['DateTime'].dt.day\n",
    "    df['weekofyear']   = df['DateTime'].dt.weekofyear\n",
    "    "
   ]
  },
  {
   "cell_type": "code",
   "execution_count": 11,
   "metadata": {},
   "outputs": [
    {
     "data": {
      "text/html": [
       "<div>\n",
       "<style scoped>\n",
       "    .dataframe tbody tr th:only-of-type {\n",
       "        vertical-align: middle;\n",
       "    }\n",
       "\n",
       "    .dataframe tbody tr th {\n",
       "        vertical-align: top;\n",
       "    }\n",
       "\n",
       "    .dataframe thead th {\n",
       "        text-align: right;\n",
       "    }\n",
       "</style>\n",
       "<table border=\"1\" class=\"dataframe\">\n",
       "  <thead>\n",
       "    <tr style=\"text-align: right;\">\n",
       "      <th></th>\n",
       "      <th>DateTime</th>\n",
       "      <th>Junction</th>\n",
       "      <th>Vehicles</th>\n",
       "      <th>ID</th>\n",
       "      <th>hour</th>\n",
       "      <th>dayofweek</th>\n",
       "      <th>quarter</th>\n",
       "      <th>month</th>\n",
       "      <th>year</th>\n",
       "      <th>dayofyear</th>\n",
       "      <th>dayofmonth</th>\n",
       "      <th>weekofyear</th>\n",
       "    </tr>\n",
       "  </thead>\n",
       "  <tbody>\n",
       "    <tr>\n",
       "      <th>0</th>\n",
       "      <td>2015-11-01 00:00:00</td>\n",
       "      <td>1</td>\n",
       "      <td>15</td>\n",
       "      <td>20151101001</td>\n",
       "      <td>0</td>\n",
       "      <td>6</td>\n",
       "      <td>4</td>\n",
       "      <td>11</td>\n",
       "      <td>2015</td>\n",
       "      <td>305</td>\n",
       "      <td>1</td>\n",
       "      <td>44</td>\n",
       "    </tr>\n",
       "    <tr>\n",
       "      <th>1</th>\n",
       "      <td>2015-11-01 01:00:00</td>\n",
       "      <td>1</td>\n",
       "      <td>13</td>\n",
       "      <td>20151101011</td>\n",
       "      <td>1</td>\n",
       "      <td>6</td>\n",
       "      <td>4</td>\n",
       "      <td>11</td>\n",
       "      <td>2015</td>\n",
       "      <td>305</td>\n",
       "      <td>1</td>\n",
       "      <td>44</td>\n",
       "    </tr>\n",
       "    <tr>\n",
       "      <th>2</th>\n",
       "      <td>2015-11-01 02:00:00</td>\n",
       "      <td>1</td>\n",
       "      <td>10</td>\n",
       "      <td>20151101021</td>\n",
       "      <td>2</td>\n",
       "      <td>6</td>\n",
       "      <td>4</td>\n",
       "      <td>11</td>\n",
       "      <td>2015</td>\n",
       "      <td>305</td>\n",
       "      <td>1</td>\n",
       "      <td>44</td>\n",
       "    </tr>\n",
       "    <tr>\n",
       "      <th>3</th>\n",
       "      <td>2015-11-01 03:00:00</td>\n",
       "      <td>1</td>\n",
       "      <td>7</td>\n",
       "      <td>20151101031</td>\n",
       "      <td>3</td>\n",
       "      <td>6</td>\n",
       "      <td>4</td>\n",
       "      <td>11</td>\n",
       "      <td>2015</td>\n",
       "      <td>305</td>\n",
       "      <td>1</td>\n",
       "      <td>44</td>\n",
       "    </tr>\n",
       "    <tr>\n",
       "      <th>4</th>\n",
       "      <td>2015-11-01 04:00:00</td>\n",
       "      <td>1</td>\n",
       "      <td>9</td>\n",
       "      <td>20151101041</td>\n",
       "      <td>4</td>\n",
       "      <td>6</td>\n",
       "      <td>4</td>\n",
       "      <td>11</td>\n",
       "      <td>2015</td>\n",
       "      <td>305</td>\n",
       "      <td>1</td>\n",
       "      <td>44</td>\n",
       "    </tr>\n",
       "  </tbody>\n",
       "</table>\n",
       "</div>"
      ],
      "text/plain": [
       "             DateTime  Junction  Vehicles           ID  hour  dayofweek  \\\n",
       "0 2015-11-01 00:00:00         1        15  20151101001     0          6   \n",
       "1 2015-11-01 01:00:00         1        13  20151101011     1          6   \n",
       "2 2015-11-01 02:00:00         1        10  20151101021     2          6   \n",
       "3 2015-11-01 03:00:00         1         7  20151101031     3          6   \n",
       "4 2015-11-01 04:00:00         1         9  20151101041     4          6   \n",
       "\n",
       "   quarter  month  year  dayofyear  dayofmonth  weekofyear  \n",
       "0        4     11  2015        305           1          44  \n",
       "1        4     11  2015        305           1          44  \n",
       "2        4     11  2015        305           1          44  \n",
       "3        4     11  2015        305           1          44  \n",
       "4        4     11  2015        305           1          44  "
      ]
     },
     "execution_count": 11,
     "metadata": {},
     "output_type": "execute_result"
    }
   ],
   "source": [
    "createtimefeatures(train)\n",
    "train.head()"
   ]
  },
  {
   "cell_type": "code",
   "execution_count": 125,
   "metadata": {},
   "outputs": [
    {
     "data": {
      "text/plain": [
       "dayofyear  hour  Junction\n",
       "1          0     1           40\n",
       "                 2           15\n",
       "                 3           13\n",
       "                 4            3\n",
       "           1     1           36\n",
       "                 2           10\n",
       "                 3           11\n",
       "                 4            1\n",
       "           2     1           28\n",
       "                 2            7\n",
       "                 3           11\n",
       "                 4            4\n",
       "           3     1           22\n",
       "                 2           11\n",
       "                 3            8\n",
       "                 4            4\n",
       "           4     1           24\n",
       "                 2           10\n",
       "                 3            6\n",
       "                 4            2\n",
       "           5     1           20\n",
       "                 2            8\n",
       "                 3            8\n",
       "                 4            1\n",
       "           6     1           21\n",
       "                 2           11\n",
       "                 3           10\n",
       "                 4            1\n",
       "           7     1           26\n",
       "                 2            9\n",
       "                             ..\n",
       "366        14    1           37\n",
       "                 2            7\n",
       "                 3            9\n",
       "           15    1           31\n",
       "                 2            7\n",
       "                 3            9\n",
       "           16    1           29\n",
       "                 2            9\n",
       "                 3           17\n",
       "           17    1           29\n",
       "                 2           11\n",
       "                 3           15\n",
       "           18    1           30\n",
       "                 2           10\n",
       "                 3           11\n",
       "           19    1           33\n",
       "                 2           11\n",
       "                 3           15\n",
       "           20    1           37\n",
       "                 2            7\n",
       "                 3            7\n",
       "           21    1           32\n",
       "                 2           12\n",
       "                 3           14\n",
       "           22    1           33\n",
       "                 2           10\n",
       "                 3           13\n",
       "           23    1           32\n",
       "                 2            9\n",
       "                 3           10\n",
       "Name: Vehicles, Length: 30696, dtype: int64"
      ]
     },
     "execution_count": 125,
     "metadata": {},
     "output_type": "execute_result"
    }
   ],
   "source": [
    "total_daily = train.groupby(['dayofyear','hour','Junction'])['Vehicles'].sum()\n",
    "#total_monthly = train.groupby(['month','dayofyear','Junction'])['Vehicles'].sum()\n",
    "#total_weekly = train.groupby(['weekofyear','dayofyear','Junction'])['Vehicles'].sum()\n",
    "total_daily"
   ]
  },
  {
   "cell_type": "code",
   "execution_count": 13,
   "metadata": {},
   "outputs": [],
   "source": [
    "def totalvehiclesdaily(year,day,junct) :\n",
    "    return total_daily[year,day,junct]"
   ]
  },
  {
   "cell_type": "code",
   "execution_count": 126,
   "metadata": {},
   "outputs": [
    {
     "name": "stderr",
     "output_type": "stream",
     "text": [
      "[========================================================================] 100%\n"
     ]
    }
   ],
   "source": [
    "import progressbar\n",
    "from time import sleep\n",
    "bar = progressbar.ProgressBar(maxval=train.shape[0], \\\n",
    "    widgets=[progressbar.Bar('=', '[', ']'), ' ', progressbar.Percentage()])\n",
    "total_daily_count = []\n",
    "#total_monthly_count = []\n",
    "#total_weekly_count = []\n",
    "k =0\n",
    "bar.start()\n",
    "for i in range(train.shape[0]) :\n",
    "    total_daily_count.append(total_daily[train.iloc[i,9],train.iloc[i,4],train.iloc[i,1]])\n",
    "    #total_monthly_count.append(total_monthly[train.iloc[i,7],train.iloc[i,9],train.iloc[i,1]])\n",
    "    #total_weekly_count.append(total_weekly[train.iloc[i,11],train.iloc[i,9],train.iloc[i,1]])\n",
    "    bar.update(i+1)\n",
    "    k = k+1\n",
    "bar.finish()\n",
    "train['total_daily_count'] = total_daily_count\n",
    "#train['total_monthly_count'] = total_monthly_count\n",
    "#train['total_weekly_count'] = total_weekly_count"
   ]
  },
  {
   "cell_type": "code",
   "execution_count": 12,
   "metadata": {},
   "outputs": [
    {
     "data": {
      "text/html": [
       "<div>\n",
       "<style scoped>\n",
       "    .dataframe tbody tr th:only-of-type {\n",
       "        vertical-align: middle;\n",
       "    }\n",
       "\n",
       "    .dataframe tbody tr th {\n",
       "        vertical-align: top;\n",
       "    }\n",
       "\n",
       "    .dataframe thead th {\n",
       "        text-align: right;\n",
       "    }\n",
       "</style>\n",
       "<table border=\"1\" class=\"dataframe\">\n",
       "  <thead>\n",
       "    <tr style=\"text-align: right;\">\n",
       "      <th></th>\n",
       "      <th>DateTime</th>\n",
       "      <th>Junction</th>\n",
       "      <th>Vehicles</th>\n",
       "      <th>ID</th>\n",
       "      <th>hour</th>\n",
       "      <th>dayofweek</th>\n",
       "      <th>quarter</th>\n",
       "      <th>month</th>\n",
       "      <th>year</th>\n",
       "      <th>dayofyear</th>\n",
       "      <th>dayofmonth</th>\n",
       "      <th>weekofyear</th>\n",
       "    </tr>\n",
       "  </thead>\n",
       "  <tbody>\n",
       "    <tr>\n",
       "      <th>0</th>\n",
       "      <td>2015-11-01 00:00:00</td>\n",
       "      <td>1</td>\n",
       "      <td>15</td>\n",
       "      <td>20151101001</td>\n",
       "      <td>0</td>\n",
       "      <td>6</td>\n",
       "      <td>4</td>\n",
       "      <td>11</td>\n",
       "      <td>2015</td>\n",
       "      <td>305</td>\n",
       "      <td>1</td>\n",
       "      <td>44</td>\n",
       "    </tr>\n",
       "    <tr>\n",
       "      <th>1</th>\n",
       "      <td>2015-11-01 01:00:00</td>\n",
       "      <td>1</td>\n",
       "      <td>13</td>\n",
       "      <td>20151101011</td>\n",
       "      <td>1</td>\n",
       "      <td>6</td>\n",
       "      <td>4</td>\n",
       "      <td>11</td>\n",
       "      <td>2015</td>\n",
       "      <td>305</td>\n",
       "      <td>1</td>\n",
       "      <td>44</td>\n",
       "    </tr>\n",
       "    <tr>\n",
       "      <th>2</th>\n",
       "      <td>2015-11-01 02:00:00</td>\n",
       "      <td>1</td>\n",
       "      <td>10</td>\n",
       "      <td>20151101021</td>\n",
       "      <td>2</td>\n",
       "      <td>6</td>\n",
       "      <td>4</td>\n",
       "      <td>11</td>\n",
       "      <td>2015</td>\n",
       "      <td>305</td>\n",
       "      <td>1</td>\n",
       "      <td>44</td>\n",
       "    </tr>\n",
       "    <tr>\n",
       "      <th>3</th>\n",
       "      <td>2015-11-01 03:00:00</td>\n",
       "      <td>1</td>\n",
       "      <td>7</td>\n",
       "      <td>20151101031</td>\n",
       "      <td>3</td>\n",
       "      <td>6</td>\n",
       "      <td>4</td>\n",
       "      <td>11</td>\n",
       "      <td>2015</td>\n",
       "      <td>305</td>\n",
       "      <td>1</td>\n",
       "      <td>44</td>\n",
       "    </tr>\n",
       "    <tr>\n",
       "      <th>4</th>\n",
       "      <td>2015-11-01 04:00:00</td>\n",
       "      <td>1</td>\n",
       "      <td>9</td>\n",
       "      <td>20151101041</td>\n",
       "      <td>4</td>\n",
       "      <td>6</td>\n",
       "      <td>4</td>\n",
       "      <td>11</td>\n",
       "      <td>2015</td>\n",
       "      <td>305</td>\n",
       "      <td>1</td>\n",
       "      <td>44</td>\n",
       "    </tr>\n",
       "    <tr>\n",
       "      <th>5</th>\n",
       "      <td>2015-11-01 05:00:00</td>\n",
       "      <td>1</td>\n",
       "      <td>6</td>\n",
       "      <td>20151101051</td>\n",
       "      <td>5</td>\n",
       "      <td>6</td>\n",
       "      <td>4</td>\n",
       "      <td>11</td>\n",
       "      <td>2015</td>\n",
       "      <td>305</td>\n",
       "      <td>1</td>\n",
       "      <td>44</td>\n",
       "    </tr>\n",
       "    <tr>\n",
       "      <th>6</th>\n",
       "      <td>2015-11-01 06:00:00</td>\n",
       "      <td>1</td>\n",
       "      <td>9</td>\n",
       "      <td>20151101061</td>\n",
       "      <td>6</td>\n",
       "      <td>6</td>\n",
       "      <td>4</td>\n",
       "      <td>11</td>\n",
       "      <td>2015</td>\n",
       "      <td>305</td>\n",
       "      <td>1</td>\n",
       "      <td>44</td>\n",
       "    </tr>\n",
       "    <tr>\n",
       "      <th>7</th>\n",
       "      <td>2015-11-01 07:00:00</td>\n",
       "      <td>1</td>\n",
       "      <td>8</td>\n",
       "      <td>20151101071</td>\n",
       "      <td>7</td>\n",
       "      <td>6</td>\n",
       "      <td>4</td>\n",
       "      <td>11</td>\n",
       "      <td>2015</td>\n",
       "      <td>305</td>\n",
       "      <td>1</td>\n",
       "      <td>44</td>\n",
       "    </tr>\n",
       "    <tr>\n",
       "      <th>8</th>\n",
       "      <td>2015-11-01 08:00:00</td>\n",
       "      <td>1</td>\n",
       "      <td>11</td>\n",
       "      <td>20151101081</td>\n",
       "      <td>8</td>\n",
       "      <td>6</td>\n",
       "      <td>4</td>\n",
       "      <td>11</td>\n",
       "      <td>2015</td>\n",
       "      <td>305</td>\n",
       "      <td>1</td>\n",
       "      <td>44</td>\n",
       "    </tr>\n",
       "    <tr>\n",
       "      <th>9</th>\n",
       "      <td>2015-11-01 09:00:00</td>\n",
       "      <td>1</td>\n",
       "      <td>12</td>\n",
       "      <td>20151101091</td>\n",
       "      <td>9</td>\n",
       "      <td>6</td>\n",
       "      <td>4</td>\n",
       "      <td>11</td>\n",
       "      <td>2015</td>\n",
       "      <td>305</td>\n",
       "      <td>1</td>\n",
       "      <td>44</td>\n",
       "    </tr>\n",
       "    <tr>\n",
       "      <th>10</th>\n",
       "      <td>2015-11-01 10:00:00</td>\n",
       "      <td>1</td>\n",
       "      <td>15</td>\n",
       "      <td>20151101101</td>\n",
       "      <td>10</td>\n",
       "      <td>6</td>\n",
       "      <td>4</td>\n",
       "      <td>11</td>\n",
       "      <td>2015</td>\n",
       "      <td>305</td>\n",
       "      <td>1</td>\n",
       "      <td>44</td>\n",
       "    </tr>\n",
       "    <tr>\n",
       "      <th>11</th>\n",
       "      <td>2015-11-01 11:00:00</td>\n",
       "      <td>1</td>\n",
       "      <td>17</td>\n",
       "      <td>20151101111</td>\n",
       "      <td>11</td>\n",
       "      <td>6</td>\n",
       "      <td>4</td>\n",
       "      <td>11</td>\n",
       "      <td>2015</td>\n",
       "      <td>305</td>\n",
       "      <td>1</td>\n",
       "      <td>44</td>\n",
       "    </tr>\n",
       "    <tr>\n",
       "      <th>12</th>\n",
       "      <td>2015-11-01 12:00:00</td>\n",
       "      <td>1</td>\n",
       "      <td>16</td>\n",
       "      <td>20151101121</td>\n",
       "      <td>12</td>\n",
       "      <td>6</td>\n",
       "      <td>4</td>\n",
       "      <td>11</td>\n",
       "      <td>2015</td>\n",
       "      <td>305</td>\n",
       "      <td>1</td>\n",
       "      <td>44</td>\n",
       "    </tr>\n",
       "    <tr>\n",
       "      <th>13</th>\n",
       "      <td>2015-11-01 13:00:00</td>\n",
       "      <td>1</td>\n",
       "      <td>15</td>\n",
       "      <td>20151101131</td>\n",
       "      <td>13</td>\n",
       "      <td>6</td>\n",
       "      <td>4</td>\n",
       "      <td>11</td>\n",
       "      <td>2015</td>\n",
       "      <td>305</td>\n",
       "      <td>1</td>\n",
       "      <td>44</td>\n",
       "    </tr>\n",
       "    <tr>\n",
       "      <th>14</th>\n",
       "      <td>2015-11-01 14:00:00</td>\n",
       "      <td>1</td>\n",
       "      <td>16</td>\n",
       "      <td>20151101141</td>\n",
       "      <td>14</td>\n",
       "      <td>6</td>\n",
       "      <td>4</td>\n",
       "      <td>11</td>\n",
       "      <td>2015</td>\n",
       "      <td>305</td>\n",
       "      <td>1</td>\n",
       "      <td>44</td>\n",
       "    </tr>\n",
       "    <tr>\n",
       "      <th>15</th>\n",
       "      <td>2015-11-01 15:00:00</td>\n",
       "      <td>1</td>\n",
       "      <td>12</td>\n",
       "      <td>20151101151</td>\n",
       "      <td>15</td>\n",
       "      <td>6</td>\n",
       "      <td>4</td>\n",
       "      <td>11</td>\n",
       "      <td>2015</td>\n",
       "      <td>305</td>\n",
       "      <td>1</td>\n",
       "      <td>44</td>\n",
       "    </tr>\n",
       "    <tr>\n",
       "      <th>16</th>\n",
       "      <td>2015-11-01 16:00:00</td>\n",
       "      <td>1</td>\n",
       "      <td>12</td>\n",
       "      <td>20151101161</td>\n",
       "      <td>16</td>\n",
       "      <td>6</td>\n",
       "      <td>4</td>\n",
       "      <td>11</td>\n",
       "      <td>2015</td>\n",
       "      <td>305</td>\n",
       "      <td>1</td>\n",
       "      <td>44</td>\n",
       "    </tr>\n",
       "    <tr>\n",
       "      <th>17</th>\n",
       "      <td>2015-11-01 17:00:00</td>\n",
       "      <td>1</td>\n",
       "      <td>16</td>\n",
       "      <td>20151101171</td>\n",
       "      <td>17</td>\n",
       "      <td>6</td>\n",
       "      <td>4</td>\n",
       "      <td>11</td>\n",
       "      <td>2015</td>\n",
       "      <td>305</td>\n",
       "      <td>1</td>\n",
       "      <td>44</td>\n",
       "    </tr>\n",
       "    <tr>\n",
       "      <th>18</th>\n",
       "      <td>2015-11-01 18:00:00</td>\n",
       "      <td>1</td>\n",
       "      <td>17</td>\n",
       "      <td>20151101181</td>\n",
       "      <td>18</td>\n",
       "      <td>6</td>\n",
       "      <td>4</td>\n",
       "      <td>11</td>\n",
       "      <td>2015</td>\n",
       "      <td>305</td>\n",
       "      <td>1</td>\n",
       "      <td>44</td>\n",
       "    </tr>\n",
       "    <tr>\n",
       "      <th>19</th>\n",
       "      <td>2015-11-01 19:00:00</td>\n",
       "      <td>1</td>\n",
       "      <td>20</td>\n",
       "      <td>20151101191</td>\n",
       "      <td>19</td>\n",
       "      <td>6</td>\n",
       "      <td>4</td>\n",
       "      <td>11</td>\n",
       "      <td>2015</td>\n",
       "      <td>305</td>\n",
       "      <td>1</td>\n",
       "      <td>44</td>\n",
       "    </tr>\n",
       "  </tbody>\n",
       "</table>\n",
       "</div>"
      ],
      "text/plain": [
       "              DateTime  Junction  Vehicles           ID  hour  dayofweek  \\\n",
       "0  2015-11-01 00:00:00         1        15  20151101001     0          6   \n",
       "1  2015-11-01 01:00:00         1        13  20151101011     1          6   \n",
       "2  2015-11-01 02:00:00         1        10  20151101021     2          6   \n",
       "3  2015-11-01 03:00:00         1         7  20151101031     3          6   \n",
       "4  2015-11-01 04:00:00         1         9  20151101041     4          6   \n",
       "5  2015-11-01 05:00:00         1         6  20151101051     5          6   \n",
       "6  2015-11-01 06:00:00         1         9  20151101061     6          6   \n",
       "7  2015-11-01 07:00:00         1         8  20151101071     7          6   \n",
       "8  2015-11-01 08:00:00         1        11  20151101081     8          6   \n",
       "9  2015-11-01 09:00:00         1        12  20151101091     9          6   \n",
       "10 2015-11-01 10:00:00         1        15  20151101101    10          6   \n",
       "11 2015-11-01 11:00:00         1        17  20151101111    11          6   \n",
       "12 2015-11-01 12:00:00         1        16  20151101121    12          6   \n",
       "13 2015-11-01 13:00:00         1        15  20151101131    13          6   \n",
       "14 2015-11-01 14:00:00         1        16  20151101141    14          6   \n",
       "15 2015-11-01 15:00:00         1        12  20151101151    15          6   \n",
       "16 2015-11-01 16:00:00         1        12  20151101161    16          6   \n",
       "17 2015-11-01 17:00:00         1        16  20151101171    17          6   \n",
       "18 2015-11-01 18:00:00         1        17  20151101181    18          6   \n",
       "19 2015-11-01 19:00:00         1        20  20151101191    19          6   \n",
       "\n",
       "    quarter  month  year  dayofyear  dayofmonth  weekofyear  \n",
       "0         4     11  2015        305           1          44  \n",
       "1         4     11  2015        305           1          44  \n",
       "2         4     11  2015        305           1          44  \n",
       "3         4     11  2015        305           1          44  \n",
       "4         4     11  2015        305           1          44  \n",
       "5         4     11  2015        305           1          44  \n",
       "6         4     11  2015        305           1          44  \n",
       "7         4     11  2015        305           1          44  \n",
       "8         4     11  2015        305           1          44  \n",
       "9         4     11  2015        305           1          44  \n",
       "10        4     11  2015        305           1          44  \n",
       "11        4     11  2015        305           1          44  \n",
       "12        4     11  2015        305           1          44  \n",
       "13        4     11  2015        305           1          44  \n",
       "14        4     11  2015        305           1          44  \n",
       "15        4     11  2015        305           1          44  \n",
       "16        4     11  2015        305           1          44  \n",
       "17        4     11  2015        305           1          44  \n",
       "18        4     11  2015        305           1          44  \n",
       "19        4     11  2015        305           1          44  "
      ]
     },
     "execution_count": 12,
     "metadata": {},
     "output_type": "execute_result"
    }
   ],
   "source": [
    "train.head(20)"
   ]
  },
  {
   "cell_type": "code",
   "execution_count": 28,
   "metadata": {},
   "outputs": [
    {
     "data": {
      "text/plain": [
       "<matplotlib.axes._subplots.AxesSubplot at 0x18847c1c748>"
      ]
     },
     "execution_count": 28,
     "metadata": {},
     "output_type": "execute_result"
    },
    {
     "data": {
      "image/png": "[encoded data removed]",
      "text/plain": [
       "<Figure size 1080x360 with 1 Axes>"
      ]
     },
     "metadata": {
      "needs_background": "light"
     },
     "output_type": "display_data"
    }
   ],
   "source": [
    "# No of vehicles based on Day of Year\n",
    "fig = plt.figure(figsize=(15,5))\n",
    "plt.title(\"No of Vehicles passing through the juctions on different days of year\")\n",
    "doy_1 = train[train.Junction ==1].groupby(['dayofyear'])['Vehicles'].sum()\n",
    "doy_2 = train[train.Junction ==2].groupby(['dayofyear'])['Vehicles'].sum()\n",
    "doy_3 = train[train.Junction ==3].groupby(['dayofyear'])['Vehicles'].sum()\n",
    "doy_4 = train[train.Junction ==4].groupby(['dayofyear'])['Vehicles'].sum()\n",
    "sns.lineplot(doy_1.index,doy_1,label='Junction1')\n",
    "sns.lineplot(doy_2.index,doy_2,label='Junction2')\n",
    "sns.lineplot(doy_3.index,doy_3,label='Junction3')\n",
    "sns.lineplot(doy_4.index,doy_4,label='Junction4')"
   ]
  },
  {
   "cell_type": "code",
   "execution_count": 29,
   "metadata": {},
   "outputs": [
    {
     "data": {
      "text/plain": [
       "<matplotlib.axes._subplots.AxesSubplot at 0x18847ff2550>"
      ]
     },
     "execution_count": 29,
     "metadata": {},
     "output_type": "execute_result"
    },
    {
     "data": {
      "image/png": "[encoded data removed]",
      "text/plain": [
       "<Figure size 1080x360 with 1 Axes>"
      ]
     },
     "metadata": {
      "needs_background": "light"
     },
     "output_type": "display_data"
    }
   ],
   "source": [
    "# No of vehicles based on hour of day\n",
    "fig = plt.figure(figsize=(15,5))\n",
    "plt.title(\"Hourly No of Vehicles passing through the juctions\")\n",
    "hourly_1 = train[train.Junction ==1].groupby(['hour'])['Vehicles'].sum()\n",
    "hourly_2 = train[train.Junction ==2].groupby(['hour'])['Vehicles'].sum()\n",
    "hourly_3 = train[train.Junction ==3].groupby(['hour'])['Vehicles'].sum()\n",
    "hourly_4 = train[train.Junction ==4].groupby(['hour'])['Vehicles'].sum()\n",
    "sns.lineplot(hourly_1.index,hourly_1,label='Junction1')\n",
    "sns.lineplot(hourly_2.index,hourly_2,label='Junction2')\n",
    "sns.lineplot(hourly_3.index,hourly_3,label='Junction3')\n",
    "sns.lineplot(hourly_4.index,hourly_4,label='Junction4')"
   ]
  },
  {
   "cell_type": "code",
   "execution_count": 30,
   "metadata": {},
   "outputs": [
    {
     "data": {
      "text/plain": [
       "<matplotlib.axes._subplots.AxesSubplot at 0x188480a0390>"
      ]
     },
     "execution_count": 30,
     "metadata": {},
     "output_type": "execute_result"
    },
    {
     "data": {
      "image/png": "[encoded data removed]",
      "text/plain": [
       "<Figure size 1080x360 with 1 Axes>"
      ]
     },
     "metadata": {
      "needs_background": "light"
     },
     "output_type": "display_data"
    }
   ],
   "source": [
    "# No of vehicles based on day of week\n",
    "fig = plt.figure(figsize=(15,5))\n",
    "plt.title(\"No of Vehicles passing through the juctions on different days of week\")\n",
    "dow_1 = train[train.Junction ==1].groupby(['dayofweek'])['Vehicles'].sum()\n",
    "dow_2 = train[train.Junction ==2].groupby(['dayofweek'])['Vehicles'].sum()\n",
    "dow_3 = train[train.Junction ==3].groupby(['dayofweek'])['Vehicles'].sum()\n",
    "dow_4 = train[train.Junction ==4].groupby(['dayofweek'])['Vehicles'].sum()\n",
    "sns.lineplot(dow_1.index,dow_1,label='Junction1')\n",
    "sns.lineplot(dow_2.index,dow_2,label='Junction2')\n",
    "sns.lineplot(dow_3.index,dow_3,label='Junction3')\n",
    "sns.lineplot(dow_4.index,dow_4,label='Junction4')"
   ]
  },
  {
   "cell_type": "code",
   "execution_count": 31,
   "metadata": {},
   "outputs": [
    {
     "data": {
      "text/plain": [
       "<matplotlib.axes._subplots.AxesSubplot at 0x188480f6978>"
      ]
     },
     "execution_count": 31,
     "metadata": {},
     "output_type": "execute_result"
    },
    {
     "data": {
      "image/png": "[encoded data removed]",
      "text/plain": [
       "<Figure size 1080x360 with 1 Axes>"
      ]
     },
     "metadata": {
      "needs_background": "light"
     },
     "output_type": "display_data"
    }
   ],
   "source": [
    "fig = plt.figure(figsize=(15,5))\n",
    "plt.title(\"No of Vehicles passing through the juctions on different months of year\")\n",
    "moy_1 = train[train.Junction ==1].groupby(['month'])['Vehicles'].sum()\n",
    "moy_2 = train[train.Junction ==2].groupby(['month'])['Vehicles'].sum()\n",
    "moy_3 = train[train.Junction ==3].groupby(['month'])['Vehicles'].sum()\n",
    "moy_4 = train[train.Junction ==4].groupby(['month'])['Vehicles'].sum()\n",
    "sns.lineplot(moy_1.index,moy_1,label='Junction1')\n",
    "sns.lineplot(moy_2.index,moy_2,label='Junction2')\n",
    "sns.lineplot(moy_3.index,moy_3,label='Junction3')\n",
    "sns.lineplot(moy_4.index,moy_4,label='Junction4')"
   ]
  },
  {
   "cell_type": "code",
   "execution_count": 32,
   "metadata": {},
   "outputs": [
    {
     "data": {
      "text/plain": [
       "<matplotlib.axes._subplots.AxesSubplot at 0x188481960b8>"
      ]
     },
     "execution_count": 32,
     "metadata": {},
     "output_type": "execute_result"
    },
    {
     "data": {
      "image/png": "[encoded data removed]",
      "text/plain": [
       "<Figure size 1080x360 with 1 Axes>"
      ]
     },
     "metadata": {
      "needs_background": "light"
     },
     "output_type": "display_data"
    }
   ],
   "source": [
    "fig = plt.figure(figsize=(15,5))\n",
    "plt.title(\"No of Vehicles passing through the juctions on different quarter of year\")\n",
    "qoy_1 = train[train.Junction ==1].groupby(['quarter'])['Vehicles'].sum()\n",
    "qoy_2 = train[train.Junction ==2].groupby(['quarter'])['Vehicles'].sum()\n",
    "qoy_3 = train[train.Junction ==3].groupby(['quarter'])['Vehicles'].sum()\n",
    "qoy_4 = train[train.Junction ==4].groupby(['quarter'])['Vehicles'].sum()\n",
    "sns.lineplot(qoy_1.index,qoy_1,label='Junction1')\n",
    "sns.lineplot(qoy_2.index,qoy_2,label='Junction2')\n",
    "sns.lineplot(qoy_3.index,qoy_3,label='Junction3')\n",
    "sns.lineplot(qoy_4.index,qoy_4,label='Junction4')"
   ]
  },
  {
   "cell_type": "code",
   "execution_count": 13,
   "metadata": {},
   "outputs": [
    {
     "data": {
      "text/plain": [
       "(11808, 3)"
      ]
     },
     "execution_count": 13,
     "metadata": {},
     "output_type": "execute_result"
    }
   ],
   "source": [
    "test.shape"
   ]
  },
  {
   "cell_type": "code",
   "execution_count": 14,
   "metadata": {},
   "outputs": [
    {
     "data": {
      "text/plain": [
       "(11808, 2)"
      ]
     },
     "execution_count": 14,
     "metadata": {},
     "output_type": "execute_result"
    }
   ],
   "source": [
    "sub.shape"
   ]
  },
  {
   "cell_type": "code",
   "execution_count": 15,
   "metadata": {},
   "outputs": [
    {
     "data": {
      "text/plain": [
       "DateTime    object\n",
       "Junction     int64\n",
       "ID           int64\n",
       "dtype: object"
      ]
     },
     "execution_count": 15,
     "metadata": {},
     "output_type": "execute_result"
    }
   ],
   "source": [
    "test.dtypes"
   ]
  },
  {
   "cell_type": "code",
   "execution_count": 16,
   "metadata": {},
   "outputs": [
    {
     "data": {
      "text/plain": [
       "DateTime    0\n",
       "Junction    0\n",
       "ID          0\n",
       "dtype: int64"
      ]
     },
     "execution_count": 16,
     "metadata": {},
     "output_type": "execute_result"
    }
   ],
   "source": [
    "test.isnull().sum()"
   ]
  },
  {
   "cell_type": "code",
   "execution_count": 17,
   "metadata": {},
   "outputs": [
    {
     "data": {
      "text/plain": [
       "(Timestamp('2017-07-01 00:00:00'), Timestamp('2017-10-31 23:00:00'))"
      ]
     },
     "execution_count": 17,
     "metadata": {},
     "output_type": "execute_result"
    }
   ],
   "source": [
    "test['DateTime'] = pd.to_datetime(test['DateTime'])\n",
    "test.DateTime.min(),test.DateTime.max()"
   ]
  },
  {
   "cell_type": "code",
   "execution_count": 18,
   "metadata": {},
   "outputs": [
    {
     "data": {
      "text/html": [
       "<div>\n",
       "<style scoped>\n",
       "    .dataframe tbody tr th:only-of-type {\n",
       "        vertical-align: middle;\n",
       "    }\n",
       "\n",
       "    .dataframe tbody tr th {\n",
       "        vertical-align: top;\n",
       "    }\n",
       "\n",
       "    .dataframe thead th {\n",
       "        text-align: right;\n",
       "    }\n",
       "</style>\n",
       "<table border=\"1\" class=\"dataframe\">\n",
       "  <thead>\n",
       "    <tr style=\"text-align: right;\">\n",
       "      <th></th>\n",
       "      <th>DateTime</th>\n",
       "      <th>Junction</th>\n",
       "      <th>ID</th>\n",
       "      <th>hour</th>\n",
       "      <th>dayofweek</th>\n",
       "      <th>quarter</th>\n",
       "      <th>month</th>\n",
       "      <th>year</th>\n",
       "      <th>dayofyear</th>\n",
       "      <th>dayofmonth</th>\n",
       "      <th>weekofyear</th>\n",
       "    </tr>\n",
       "  </thead>\n",
       "  <tbody>\n",
       "    <tr>\n",
       "      <th>0</th>\n",
       "      <td>2017-07-01 00:00:00</td>\n",
       "      <td>1</td>\n",
       "      <td>20170701001</td>\n",
       "      <td>0</td>\n",
       "      <td>5</td>\n",
       "      <td>3</td>\n",
       "      <td>7</td>\n",
       "      <td>2017</td>\n",
       "      <td>182</td>\n",
       "      <td>1</td>\n",
       "      <td>26</td>\n",
       "    </tr>\n",
       "    <tr>\n",
       "      <th>1</th>\n",
       "      <td>2017-07-01 01:00:00</td>\n",
       "      <td>1</td>\n",
       "      <td>20170701011</td>\n",
       "      <td>1</td>\n",
       "      <td>5</td>\n",
       "      <td>3</td>\n",
       "      <td>7</td>\n",
       "      <td>2017</td>\n",
       "      <td>182</td>\n",
       "      <td>1</td>\n",
       "      <td>26</td>\n",
       "    </tr>\n",
       "    <tr>\n",
       "      <th>2</th>\n",
       "      <td>2017-07-01 02:00:00</td>\n",
       "      <td>1</td>\n",
       "      <td>20170701021</td>\n",
       "      <td>2</td>\n",
       "      <td>5</td>\n",
       "      <td>3</td>\n",
       "      <td>7</td>\n",
       "      <td>2017</td>\n",
       "      <td>182</td>\n",
       "      <td>1</td>\n",
       "      <td>26</td>\n",
       "    </tr>\n",
       "    <tr>\n",
       "      <th>3</th>\n",
       "      <td>2017-07-01 03:00:00</td>\n",
       "      <td>1</td>\n",
       "      <td>20170701031</td>\n",
       "      <td>3</td>\n",
       "      <td>5</td>\n",
       "      <td>3</td>\n",
       "      <td>7</td>\n",
       "      <td>2017</td>\n",
       "      <td>182</td>\n",
       "      <td>1</td>\n",
       "      <td>26</td>\n",
       "    </tr>\n",
       "    <tr>\n",
       "      <th>4</th>\n",
       "      <td>2017-07-01 04:00:00</td>\n",
       "      <td>1</td>\n",
       "      <td>20170701041</td>\n",
       "      <td>4</td>\n",
       "      <td>5</td>\n",
       "      <td>3</td>\n",
       "      <td>7</td>\n",
       "      <td>2017</td>\n",
       "      <td>182</td>\n",
       "      <td>1</td>\n",
       "      <td>26</td>\n",
       "    </tr>\n",
       "  </tbody>\n",
       "</table>\n",
       "</div>"
      ],
      "text/plain": [
       "             DateTime  Junction           ID  hour  dayofweek  quarter  month  \\\n",
       "0 2017-07-01 00:00:00         1  20170701001     0          5        3      7   \n",
       "1 2017-07-01 01:00:00         1  20170701011     1          5        3      7   \n",
       "2 2017-07-01 02:00:00         1  20170701021     2          5        3      7   \n",
       "3 2017-07-01 03:00:00         1  20170701031     3          5        3      7   \n",
       "4 2017-07-01 04:00:00         1  20170701041     4          5        3      7   \n",
       "\n",
       "   year  dayofyear  dayofmonth  weekofyear  \n",
       "0  2017        182           1          26  \n",
       "1  2017        182           1          26  \n",
       "2  2017        182           1          26  \n",
       "3  2017        182           1          26  \n",
       "4  2017        182           1          26  "
      ]
     },
     "execution_count": 18,
     "metadata": {},
     "output_type": "execute_result"
    }
   ],
   "source": [
    "createtimefeatures(test)\n",
    "test.head()"
   ]
  },
  {
   "cell_type": "code",
   "execution_count": 39,
   "metadata": {},
   "outputs": [],
   "source": [
    "total_daily = test.groupby(['year','dayofyear','Junction'])['Vehicles'].sum()\n",
    "total_monthly = test.groupby(['month','dayofyear','Junction'])['Vehicles'].sum()\n",
    "total_weekly = test.groupby(['weekofyear','dayofyear','Junction'])['Vehicles'].sum()"
   ]
  },
  {
   "cell_type": "code",
   "execution_count": null,
   "metadata": {},
   "outputs": [],
   "source": [
    "import progressbar\n",
    "from time import sleep\n",
    "bar = progressbar.ProgressBar(maxval=train.shape[0], \\\n",
    "    widgets=[progressbar.Bar('=', '[', ']'), ' ', progressbar.Percentage()])\n",
    "total_daily_count = []\n",
    "total_monthly_count = []\n",
    "total_weekly_count = []\n",
    "k =0\n",
    "bar.start()\n",
    "for i in range(train.shape[0]) :\n",
    "    total_daily_count.append(total_daily[test.iloc[i,8],test.iloc[i,9],test.iloc[i,1]])\n",
    "    total_monthly_count.append(total_monthly[test.iloc[i,7],test.iloc[i,9],test.iloc[i,1]])\n",
    "    total_weekly_count.append(total_weekly[test.iloc[i,11],test.iloc[i,9],test.iloc[i,1]])\n",
    "    bar.update(i+1)\n",
    "    k = k+1\n",
    "bar.finish()\n",
    "test['total_daily_count'] = total_daily_count\n",
    "test['total_monthly_count'] = total_monthly_count\n",
    "test['total_weekly_count'] = total_weekly_count"
   ]
  },
  {
   "cell_type": "code",
   "execution_count": 19,
   "metadata": {},
   "outputs": [
    {
     "data": {
      "text/plain": [
       "Index(['DateTime', 'Junction', 'Vehicles', 'ID', 'hour', 'dayofweek',\n",
       "       'quarter', 'month', 'year', 'dayofyear', 'dayofmonth', 'weekofyear'],\n",
       "      dtype='object')"
      ]
     },
     "execution_count": 19,
     "metadata": {},
     "output_type": "execute_result"
    }
   ],
   "source": [
    "train.columns"
   ]
  },
  {
   "cell_type": "code",
   "execution_count": 20,
   "metadata": {},
   "outputs": [
    {
     "data": {
      "text/plain": [
       "Index(['DateTime', 'Junction', 'ID', 'hour', 'dayofweek', 'quarter', 'month',\n",
       "       'year', 'dayofyear', 'dayofmonth', 'weekofyear'],\n",
       "      dtype='object')"
      ]
     },
     "execution_count": 20,
     "metadata": {},
     "output_type": "execute_result"
    }
   ],
   "source": [
    "test.columns"
   ]
  },
  {
   "cell_type": "code",
   "execution_count": 21,
   "metadata": {},
   "outputs": [],
   "source": [
    "X = train[['Junction','ID','hour', 'dayofweek',\n",
    "       'quarter', 'month', 'year', 'dayofyear', 'dayofmonth', 'weekofyear']]\n",
    "y = train['Vehicles']\n",
    "\n",
    "X,y  = np.array(X), np.array(y)"
   ]
  },
  {
   "cell_type": "code",
   "execution_count": 22,
   "metadata": {},
   "outputs": [],
   "source": [
    "Xtst = test[['Junction', 'ID','hour', 'dayofweek', 'quarter', 'month',\n",
    "       'year', 'dayofyear', 'dayofmonth', 'weekofyear']]\n",
    "Xtst = np.array(Xtst)"
   ]
  },
  {
   "cell_type": "code",
   "execution_count": 23,
   "metadata": {},
   "outputs": [
    {
     "data": {
      "text/plain": [
       "array([[          1, 20151101001,           0, ...,         305,\n",
       "                  1,          44],\n",
       "       [          1, 20151101011,           1, ...,         305,\n",
       "                  1,          44],\n",
       "       [          1, 20151101021,           2, ...,         305,\n",
       "                  1,          44],\n",
       "       ...,\n",
       "       [          4, 20170630214,          21, ...,         181,\n",
       "                 30,          26],\n",
       "       [          4, 20170630224,          22, ...,         181,\n",
       "                 30,          26],\n",
       "       [          4, 20170630234,          23, ...,         181,\n",
       "                 30,          26]], dtype=int64)"
      ]
     },
     "execution_count": 23,
     "metadata": {},
     "output_type": "execute_result"
    }
   ],
   "source": [
    "X"
   ]
  },
  {
   "cell_type": "code",
   "execution_count": 24,
   "metadata": {},
   "outputs": [
    {
     "data": {
      "text/plain": [
       "array([[          1, 20170701001,           0, ...,         182,\n",
       "                  1,          26],\n",
       "       [          1, 20170701011,           1, ...,         182,\n",
       "                  1,          26],\n",
       "       [          1, 20170701021,           2, ...,         182,\n",
       "                  1,          26],\n",
       "       ...,\n",
       "       [          4, 20171031214,          21, ...,         304,\n",
       "                 31,          44],\n",
       "       [          4, 20171031224,          22, ...,         304,\n",
       "                 31,          44],\n",
       "       [          4, 20171031234,          23, ...,         304,\n",
       "                 31,          44]], dtype=int64)"
      ]
     },
     "execution_count": 24,
     "metadata": {},
     "output_type": "execute_result"
    }
   ],
   "source": [
    "Xtst"
   ]
  },
  {
   "cell_type": "code",
   "execution_count": 25,
   "metadata": {},
   "outputs": [
    {
     "data": {
      "text/plain": [
       "array([15, 13, 10, ..., 16, 22, 12], dtype=int64)"
      ]
     },
     "execution_count": 25,
     "metadata": {},
     "output_type": "execute_result"
    }
   ],
   "source": [
    "y"
   ]
  },
  {
   "cell_type": "code",
   "execution_count": 26,
   "metadata": {},
   "outputs": [],
   "source": [
    "X_train,X_val,y_train,y_val = train_test_split(X,y,test_size =0.30,random_state=42)"
   ]
  },
  {
   "cell_type": "code",
   "execution_count": 27,
   "metadata": {},
   "outputs": [
    {
     "data": {
      "text/plain": [
       "((33684, 10), (14436, 10))"
      ]
     },
     "execution_count": 27,
     "metadata": {},
     "output_type": "execute_result"
    }
   ],
   "source": [
    "X_train.shape,X_val.shape"
   ]
  },
  {
   "cell_type": "code",
   "execution_count": 28,
   "metadata": {},
   "outputs": [
    {
     "data": {
      "text/plain": [
       "array([[-0.19053524, -0.53843671, -1.66761405, ..., -1.41627805,\n",
       "        -0.76367305, -1.45688542],\n",
       "       [-0.19053524, -0.50474597, -0.36394502, ..., -0.86754836,\n",
       "        -0.76367305, -0.88489277],\n",
       "       [-1.22436078,  1.14907334,  0.65001978, ..., -1.21507716,\n",
       "         1.74388566, -1.20266647],\n",
       "       ...,\n",
       "       [ 0.84329031, -0.37018998,  1.51913246, ...,  1.36395237,\n",
       "        -0.87765299,  1.33952312],\n",
       "       [-1.22436078, -2.03747161,  1.22942823, ...,  1.61088073,\n",
       "        -1.10561288,  1.59374208],\n",
       "       [-0.19053524, -2.0349744 , -1.23305771, ...,  1.74806316,\n",
       "         0.60408624,  1.7844063 ]])"
      ]
     },
     "execution_count": 28,
     "metadata": {},
     "output_type": "execute_result"
    }
   ],
   "source": [
    "sc = StandardScaler()\n",
    "X_train_scale = sc.fit_transform(X_train)\n",
    "X_val_scale   = sc.transform(X_val)\n",
    "Xtst_scale    = sc.transform(Xtst)\n",
    "X_train_scale"
   ]
  },
  {
   "cell_type": "code",
   "execution_count": 92,
   "metadata": {},
   "outputs": [
    {
     "ename": "AttributeError",
     "evalue": "'PolynomialFeatures' object has no attribute 'predict'",
     "output_type": "error",
     "traceback": [
      "\u001b[1;31m---------------------------------------------------------------------------\u001b[0m",
      "\u001b[1;31mAttributeError\u001b[0m                            Traceback (most recent call last)",
      "\u001b[1;32m<ipython-input-92-96e69045af5a>\u001b[0m in \u001b[0;36m<module>\u001b[1;34m\u001b[0m\n\u001b[0;32m      5\u001b[0m \u001b[0mXtst_poly\u001b[0m \u001b[1;33m=\u001b[0m \u001b[0mpoly\u001b[0m\u001b[1;33m.\u001b[0m\u001b[0mfit_transform\u001b[0m\u001b[1;33m(\u001b[0m\u001b[0mX_val_scale\u001b[0m\u001b[1;33m)\u001b[0m\u001b[1;33m\u001b[0m\u001b[1;33m\u001b[0m\u001b[0m\n\u001b[0;32m      6\u001b[0m \u001b[0mpoly\u001b[0m\u001b[1;33m.\u001b[0m\u001b[0mfit\u001b[0m\u001b[1;33m(\u001b[0m\u001b[0mX_poly\u001b[0m\u001b[1;33m,\u001b[0m \u001b[0my_train\u001b[0m\u001b[1;33m)\u001b[0m\u001b[1;33m\u001b[0m\u001b[1;33m\u001b[0m\u001b[0m\n\u001b[1;32m----> 7\u001b[1;33m \u001b[0mprp\u001b[0m \u001b[1;33m=\u001b[0m \u001b[0mpoly\u001b[0m\u001b[1;33m.\u001b[0m\u001b[0mpredict\u001b[0m\u001b[1;33m(\u001b[0m\u001b[0mX_val_scale\u001b[0m\u001b[1;33m)\u001b[0m\u001b[1;33m\u001b[0m\u001b[1;33m\u001b[0m\u001b[0m\n\u001b[0m\u001b[0;32m      8\u001b[0m \u001b[0mmath\u001b[0m\u001b[1;33m.\u001b[0m\u001b[0msqrt\u001b[0m\u001b[1;33m(\u001b[0m\u001b[0mmse\u001b[0m\u001b[1;33m(\u001b[0m\u001b[0my_val\u001b[0m\u001b[1;33m,\u001b[0m\u001b[0msvp\u001b[0m\u001b[1;33m)\u001b[0m\u001b[1;33m)\u001b[0m\u001b[1;33m\u001b[0m\u001b[1;33m\u001b[0m\u001b[0m\n",
      "\u001b[1;31mAttributeError\u001b[0m: 'PolynomialFeatures' object has no attribute 'predict'"
     ]
    }
   ],
   "source": [
    "lin = LinearRegression() \n",
    "lin.fit(X_train_scale,y_train)\n",
    "poly = PolynomialFeatures(degree = 2) \n",
    "X_poly = poly.fit_transform(X_train_scale)\n",
    "Xtst_poly = poly.fit_transform(X_val_scale)\n",
    "poly.fit(X_poly, y_train)\n",
    "prp = poly.predict(X_val_scale)\n",
    "math.sqrt(mse(y_val,svp))"
   ]
  },
  {
   "cell_type": "code",
   "execution_count": 166,
   "metadata": {},
   "outputs": [
    {
     "data": {
      "text/plain": [
       "4.740004562250047"
      ]
     },
     "execution_count": 166,
     "metadata": {},
     "output_type": "execute_result"
    }
   ],
   "source": [
    "clf = KNeighborsRegressor(n_neighbors=7)\n",
    "clf.fit(X_train_scale,y_train)\n",
    "knp = clf.predict(X_val_scale)\n",
    "math.sqrt(mse(y_val,knp))"
   ]
  },
  {
   "cell_type": "code",
   "execution_count": 167,
   "metadata": {},
   "outputs": [
    {
     "data": {
      "text/plain": [
       "array([50.71428571, 50.85714286, 44.28571429, ..., 14.71428571,\n",
       "       13.57142857, 13.28571429])"
      ]
     },
     "execution_count": 167,
     "metadata": {},
     "output_type": "execute_result"
    }
   ],
   "source": [
    "knp = clf.predict(Xtst_scale)\n",
    "knp"
   ]
  },
  {
   "cell_type": "code",
   "execution_count": 168,
   "metadata": {},
   "outputs": [
    {
     "data": {
      "text/plain": [
       "19.545481272721887"
      ]
     },
     "execution_count": 168,
     "metadata": {},
     "output_type": "execute_result"
    }
   ],
   "source": [
    "clf = LinearSVC()\n",
    "clf.fit(X_train_scale,y_train)\n",
    "svp = clf.predict(X_val_scale)\n",
    "math.sqrt(mse(y_val,svp))"
   ]
  },
  {
   "cell_type": "code",
   "execution_count": 169,
   "metadata": {},
   "outputs": [
    {
     "data": {
      "text/plain": [
       "array([50, 20, 20, ..., 10, 10, 15], dtype=int64)"
      ]
     },
     "execution_count": 169,
     "metadata": {},
     "output_type": "execute_result"
    }
   ],
   "source": [
    "svp = clf.predict(Xtst_scale)\n",
    "svp"
   ]
  },
  {
   "cell_type": "code",
   "execution_count": 172,
   "metadata": {},
   "outputs": [
    {
     "data": {
      "text/plain": [
       "4.598232038243438"
      ]
     },
     "execution_count": 172,
     "metadata": {},
     "output_type": "execute_result"
    }
   ],
   "source": [
    "clf = DecisionTreeRegressor()\n",
    "clf.fit(X_train_scale,y_train)\n",
    "dtp = clf.predict(X_val_scale)\n",
    "math.sqrt(mse(y_val,dtp))"
   ]
  },
  {
   "cell_type": "code",
   "execution_count": 173,
   "metadata": {},
   "outputs": [
    {
     "data": {
      "text/plain": [
       "array([68., 55., 42., ..., 12., 12., 12.])"
      ]
     },
     "execution_count": 173,
     "metadata": {},
     "output_type": "execute_result"
    }
   ],
   "source": [
    "dtp = clf.predict(Xtst_scale)\n",
    "dtp"
   ]
  },
  {
   "cell_type": "code",
   "execution_count": 174,
   "metadata": {},
   "outputs": [
    {
     "data": {
      "text/plain": [
       "3.6215606425386806"
      ]
     },
     "execution_count": 174,
     "metadata": {},
     "output_type": "execute_result"
    }
   ],
   "source": [
    "clf = RandomForestRegressor(n_estimators =900,max_depth=25,random_state=42)\n",
    "clf.fit(X_train_scale,y_train)\n",
    "rfp = clf.predict(X_val_scale)\n",
    "math.sqrt(mse(y_val,rfp))"
   ]
  },
  {
   "cell_type": "code",
   "execution_count": 55,
   "metadata": {},
   "outputs": [
    {
     "name": "stderr",
     "output_type": "stream",
     "text": [
      "[========================================================================] 100%\n"
     ]
    },
    {
     "data": {
      "text/plain": [
       "<matplotlib.axes._subplots.AxesSubplot at 0x19f6a6c4128>"
      ]
     },
     "execution_count": 55,
     "metadata": {},
     "output_type": "execute_result"
    },
    {
     "data": {
      "image/png": "[encoded data removed]",
      "text/plain": [
       "<Figure size 432x288 with 1 Axes>"
      ]
     },
     "metadata": {
      "needs_background": "light"
     },
     "output_type": "display_data"
    }
   ],
   "source": [
    "# Rndom Forest Hyperparameter tunning max_depth\n",
    "val = {}\n",
    "import progressbar\n",
    "from time import sleep\n",
    "bar = progressbar.ProgressBar(maxval=len(range(5,1000,20)), \\\n",
    "widgets=[progressbar.Bar('=', '[', ']'), ' ', progressbar.Percentage()])\n",
    "k=0\n",
    "\n",
    "bar.start()\n",
    "for i in range(5,1000,20) :\n",
    "    clf = RandomForestRegressor(max_depth=i,random_state=42)\n",
    "    clf.fit(X_train,y_train)\n",
    "    rfp = clf.predict(X_val)\n",
    "    val[i] = math.sqrt(mse(y_val,rfp))\n",
    "    bar.update(k+1)\n",
    "    k = k+1\n",
    "bar.finish()\n",
    "valdf = pd.DataFrame.from_dict(val,orient='index')\n",
    "valdf.columns = ['RMSE']\n",
    "sns.lineplot(valdf.index,valdf.RMSE)"
   ]
  },
  {
   "cell_type": "code",
   "execution_count": 56,
   "metadata": {},
   "outputs": [
    {
     "data": {
      "text/html": [
       "<div>\n",
       "<style scoped>\n",
       "    .dataframe tbody tr th:only-of-type {\n",
       "        vertical-align: middle;\n",
       "    }\n",
       "\n",
       "    .dataframe tbody tr th {\n",
       "        vertical-align: top;\n",
       "    }\n",
       "\n",
       "    .dataframe thead th {\n",
       "        text-align: right;\n",
       "    }\n",
       "</style>\n",
       "<table border=\"1\" class=\"dataframe\">\n",
       "  <thead>\n",
       "    <tr style=\"text-align: right;\">\n",
       "      <th></th>\n",
       "      <th>RMSE</th>\n",
       "    </tr>\n",
       "  </thead>\n",
       "  <tbody>\n",
       "    <tr>\n",
       "      <th>5</th>\n",
       "      <td>7.025706</td>\n",
       "    </tr>\n",
       "    <tr>\n",
       "      <th>25</th>\n",
       "      <td>3.872464</td>\n",
       "    </tr>\n",
       "    <tr>\n",
       "      <th>45</th>\n",
       "      <td>3.873269</td>\n",
       "    </tr>\n",
       "    <tr>\n",
       "      <th>65</th>\n",
       "      <td>3.873269</td>\n",
       "    </tr>\n",
       "    <tr>\n",
       "      <th>85</th>\n",
       "      <td>3.873269</td>\n",
       "    </tr>\n",
       "    <tr>\n",
       "      <th>105</th>\n",
       "      <td>3.873269</td>\n",
       "    </tr>\n",
       "    <tr>\n",
       "      <th>125</th>\n",
       "      <td>3.873269</td>\n",
       "    </tr>\n",
       "    <tr>\n",
       "      <th>145</th>\n",
       "      <td>3.873269</td>\n",
       "    </tr>\n",
       "    <tr>\n",
       "      <th>165</th>\n",
       "      <td>3.873269</td>\n",
       "    </tr>\n",
       "    <tr>\n",
       "      <th>185</th>\n",
       "      <td>3.873269</td>\n",
       "    </tr>\n",
       "    <tr>\n",
       "      <th>205</th>\n",
       "      <td>3.873269</td>\n",
       "    </tr>\n",
       "    <tr>\n",
       "      <th>225</th>\n",
       "      <td>3.873269</td>\n",
       "    </tr>\n",
       "    <tr>\n",
       "      <th>245</th>\n",
       "      <td>3.873269</td>\n",
       "    </tr>\n",
       "    <tr>\n",
       "      <th>265</th>\n",
       "      <td>3.873269</td>\n",
       "    </tr>\n",
       "    <tr>\n",
       "      <th>285</th>\n",
       "      <td>3.873269</td>\n",
       "    </tr>\n",
       "    <tr>\n",
       "      <th>305</th>\n",
       "      <td>3.873269</td>\n",
       "    </tr>\n",
       "    <tr>\n",
       "      <th>325</th>\n",
       "      <td>3.873269</td>\n",
       "    </tr>\n",
       "    <tr>\n",
       "      <th>345</th>\n",
       "      <td>3.873269</td>\n",
       "    </tr>\n",
       "    <tr>\n",
       "      <th>365</th>\n",
       "      <td>3.873269</td>\n",
       "    </tr>\n",
       "    <tr>\n",
       "      <th>385</th>\n",
       "      <td>3.873269</td>\n",
       "    </tr>\n",
       "    <tr>\n",
       "      <th>405</th>\n",
       "      <td>3.873269</td>\n",
       "    </tr>\n",
       "    <tr>\n",
       "      <th>425</th>\n",
       "      <td>3.873269</td>\n",
       "    </tr>\n",
       "    <tr>\n",
       "      <th>445</th>\n",
       "      <td>3.873269</td>\n",
       "    </tr>\n",
       "    <tr>\n",
       "      <th>465</th>\n",
       "      <td>3.873269</td>\n",
       "    </tr>\n",
       "    <tr>\n",
       "      <th>485</th>\n",
       "      <td>3.873269</td>\n",
       "    </tr>\n",
       "    <tr>\n",
       "      <th>505</th>\n",
       "      <td>3.873269</td>\n",
       "    </tr>\n",
       "    <tr>\n",
       "      <th>525</th>\n",
       "      <td>3.873269</td>\n",
       "    </tr>\n",
       "    <tr>\n",
       "      <th>545</th>\n",
       "      <td>3.873269</td>\n",
       "    </tr>\n",
       "    <tr>\n",
       "      <th>565</th>\n",
       "      <td>3.873269</td>\n",
       "    </tr>\n",
       "    <tr>\n",
       "      <th>585</th>\n",
       "      <td>3.873269</td>\n",
       "    </tr>\n",
       "    <tr>\n",
       "      <th>605</th>\n",
       "      <td>3.873269</td>\n",
       "    </tr>\n",
       "    <tr>\n",
       "      <th>625</th>\n",
       "      <td>3.873269</td>\n",
       "    </tr>\n",
       "    <tr>\n",
       "      <th>645</th>\n",
       "      <td>3.873269</td>\n",
       "    </tr>\n",
       "    <tr>\n",
       "      <th>665</th>\n",
       "      <td>3.873269</td>\n",
       "    </tr>\n",
       "    <tr>\n",
       "      <th>685</th>\n",
       "      <td>3.873269</td>\n",
       "    </tr>\n",
       "    <tr>\n",
       "      <th>705</th>\n",
       "      <td>3.873269</td>\n",
       "    </tr>\n",
       "    <tr>\n",
       "      <th>725</th>\n",
       "      <td>3.873269</td>\n",
       "    </tr>\n",
       "    <tr>\n",
       "      <th>745</th>\n",
       "      <td>3.873269</td>\n",
       "    </tr>\n",
       "    <tr>\n",
       "      <th>765</th>\n",
       "      <td>3.873269</td>\n",
       "    </tr>\n",
       "    <tr>\n",
       "      <th>785</th>\n",
       "      <td>3.873269</td>\n",
       "    </tr>\n",
       "    <tr>\n",
       "      <th>805</th>\n",
       "      <td>3.873269</td>\n",
       "    </tr>\n",
       "    <tr>\n",
       "      <th>825</th>\n",
       "      <td>3.873269</td>\n",
       "    </tr>\n",
       "    <tr>\n",
       "      <th>845</th>\n",
       "      <td>3.873269</td>\n",
       "    </tr>\n",
       "    <tr>\n",
       "      <th>865</th>\n",
       "      <td>3.873269</td>\n",
       "    </tr>\n",
       "    <tr>\n",
       "      <th>885</th>\n",
       "      <td>3.873269</td>\n",
       "    </tr>\n",
       "    <tr>\n",
       "      <th>905</th>\n",
       "      <td>3.873269</td>\n",
       "    </tr>\n",
       "    <tr>\n",
       "      <th>925</th>\n",
       "      <td>3.873269</td>\n",
       "    </tr>\n",
       "    <tr>\n",
       "      <th>945</th>\n",
       "      <td>3.873269</td>\n",
       "    </tr>\n",
       "    <tr>\n",
       "      <th>965</th>\n",
       "      <td>3.873269</td>\n",
       "    </tr>\n",
       "    <tr>\n",
       "      <th>985</th>\n",
       "      <td>3.873269</td>\n",
       "    </tr>\n",
       "  </tbody>\n",
       "</table>\n",
       "</div>"
      ],
      "text/plain": [
       "         RMSE\n",
       "5    7.025706\n",
       "25   3.872464\n",
       "45   3.873269\n",
       "65   3.873269\n",
       "85   3.873269\n",
       "105  3.873269\n",
       "125  3.873269\n",
       "145  3.873269\n",
       "165  3.873269\n",
       "185  3.873269\n",
       "205  3.873269\n",
       "225  3.873269\n",
       "245  3.873269\n",
       "265  3.873269\n",
       "285  3.873269\n",
       "305  3.873269\n",
       "325  3.873269\n",
       "345  3.873269\n",
       "365  3.873269\n",
       "385  3.873269\n",
       "405  3.873269\n",
       "425  3.873269\n",
       "445  3.873269\n",
       "465  3.873269\n",
       "485  3.873269\n",
       "505  3.873269\n",
       "525  3.873269\n",
       "545  3.873269\n",
       "565  3.873269\n",
       "585  3.873269\n",
       "605  3.873269\n",
       "625  3.873269\n",
       "645  3.873269\n",
       "665  3.873269\n",
       "685  3.873269\n",
       "705  3.873269\n",
       "725  3.873269\n",
       "745  3.873269\n",
       "765  3.873269\n",
       "785  3.873269\n",
       "805  3.873269\n",
       "825  3.873269\n",
       "845  3.873269\n",
       "865  3.873269\n",
       "885  3.873269\n",
       "905  3.873269\n",
       "925  3.873269\n",
       "945  3.873269\n",
       "965  3.873269\n",
       "985  3.873269"
      ]
     },
     "execution_count": 56,
     "metadata": {},
     "output_type": "execute_result"
    }
   ],
   "source": [
    "valdf"
   ]
  },
  {
   "cell_type": "code",
   "execution_count": 58,
   "metadata": {},
   "outputs": [
    {
     "name": "stderr",
     "output_type": "stream",
     "text": [
      "[========================================================================] 100%\n"
     ]
    },
    {
     "data": {
      "text/plain": [
       "<matplotlib.axes._subplots.AxesSubplot at 0x19f6c234e48>"
      ]
     },
     "execution_count": 58,
     "metadata": {},
     "output_type": "execute_result"
    },
    {
     "data": {
      "image/png": "[encoded data removed]",
      "text/plain": [
       "<Figure size 432x288 with 1 Axes>"
      ]
     },
     "metadata": {
      "needs_background": "light"
     },
     "output_type": "display_data"
    }
   ],
   "source": [
    "# Rndom Forest Hyperparameter tunning n_estimators for max_depth=25\n",
    "val = {}\n",
    "import progressbar\n",
    "from time import sleep\n",
    "bar = progressbar.ProgressBar(maxval=len(range(100,2000,100)), \\\n",
    "widgets=[progressbar.Bar('=', '[', ']'), ' ', progressbar.Percentage()])\n",
    "k=0\n",
    "\n",
    "bar.start()\n",
    "for i in range(100,2000,100) :\n",
    "    clf = RandomForestRegressor(n_estimators=i,max_depth=25,random_state=42)\n",
    "    clf.fit(X_train,y_train)\n",
    "    rfp = clf.predict(X_val)\n",
    "    val[i] = math.sqrt(mse(y_val,rfp))\n",
    "    bar.update(k+1)\n",
    "    k = k+1\n",
    "bar.finish()\n",
    "valdf = pd.DataFrame.from_dict(val,orient='index')\n",
    "valdf.columns = ['RMSE']\n",
    "sns.lineplot(valdf.index,valdf.RMSE)"
   ]
  },
  {
   "cell_type": "code",
   "execution_count": 59,
   "metadata": {},
   "outputs": [
    {
     "data": {
      "text/html": [
       "<div>\n",
       "<style scoped>\n",
       "    .dataframe tbody tr th:only-of-type {\n",
       "        vertical-align: middle;\n",
       "    }\n",
       "\n",
       "    .dataframe tbody tr th {\n",
       "        vertical-align: top;\n",
       "    }\n",
       "\n",
       "    .dataframe thead th {\n",
       "        text-align: right;\n",
       "    }\n",
       "</style>\n",
       "<table border=\"1\" class=\"dataframe\">\n",
       "  <thead>\n",
       "    <tr style=\"text-align: right;\">\n",
       "      <th></th>\n",
       "      <th>RMSE</th>\n",
       "    </tr>\n",
       "  </thead>\n",
       "  <tbody>\n",
       "    <tr>\n",
       "      <th>100</th>\n",
       "      <td>3.663928</td>\n",
       "    </tr>\n",
       "    <tr>\n",
       "      <th>200</th>\n",
       "      <td>3.641077</td>\n",
       "    </tr>\n",
       "    <tr>\n",
       "      <th>300</th>\n",
       "      <td>3.640745</td>\n",
       "    </tr>\n",
       "    <tr>\n",
       "      <th>400</th>\n",
       "      <td>3.641635</td>\n",
       "    </tr>\n",
       "    <tr>\n",
       "      <th>500</th>\n",
       "      <td>3.639104</td>\n",
       "    </tr>\n",
       "    <tr>\n",
       "      <th>600</th>\n",
       "      <td>3.634769</td>\n",
       "    </tr>\n",
       "    <tr>\n",
       "      <th>700</th>\n",
       "      <td>3.632713</td>\n",
       "    </tr>\n",
       "    <tr>\n",
       "      <th>800</th>\n",
       "      <td>3.632768</td>\n",
       "    </tr>\n",
       "    <tr>\n",
       "      <th>900</th>\n",
       "      <td>3.631059</td>\n",
       "    </tr>\n",
       "    <tr>\n",
       "      <th>1000</th>\n",
       "      <td>3.633066</td>\n",
       "    </tr>\n",
       "    <tr>\n",
       "      <th>1100</th>\n",
       "      <td>3.632274</td>\n",
       "    </tr>\n",
       "    <tr>\n",
       "      <th>1200</th>\n",
       "      <td>3.632642</td>\n",
       "    </tr>\n",
       "    <tr>\n",
       "      <th>1300</th>\n",
       "      <td>3.633720</td>\n",
       "    </tr>\n",
       "    <tr>\n",
       "      <th>1400</th>\n",
       "      <td>3.634646</td>\n",
       "    </tr>\n",
       "    <tr>\n",
       "      <th>1500</th>\n",
       "      <td>3.634112</td>\n",
       "    </tr>\n",
       "    <tr>\n",
       "      <th>1600</th>\n",
       "      <td>3.633935</td>\n",
       "    </tr>\n",
       "    <tr>\n",
       "      <th>1700</th>\n",
       "      <td>3.633490</td>\n",
       "    </tr>\n",
       "    <tr>\n",
       "      <th>1800</th>\n",
       "      <td>3.633472</td>\n",
       "    </tr>\n",
       "    <tr>\n",
       "      <th>1900</th>\n",
       "      <td>3.632921</td>\n",
       "    </tr>\n",
       "  </tbody>\n",
       "</table>\n",
       "</div>"
      ],
      "text/plain": [
       "          RMSE\n",
       "100   3.663928\n",
       "200   3.641077\n",
       "300   3.640745\n",
       "400   3.641635\n",
       "500   3.639104\n",
       "600   3.634769\n",
       "700   3.632713\n",
       "800   3.632768\n",
       "900   3.631059\n",
       "1000  3.633066\n",
       "1100  3.632274\n",
       "1200  3.632642\n",
       "1300  3.633720\n",
       "1400  3.634646\n",
       "1500  3.634112\n",
       "1600  3.633935\n",
       "1700  3.633490\n",
       "1800  3.633472\n",
       "1900  3.632921"
      ]
     },
     "execution_count": 59,
     "metadata": {},
     "output_type": "execute_result"
    }
   ],
   "source": [
    "valdf"
   ]
  },
  {
   "cell_type": "code",
   "execution_count": 61,
   "metadata": {},
   "outputs": [
    {
     "data": {
      "text/plain": [
       "array([71.04111111, 56.69666667, 43.89777778, ..., 15.27444444,\n",
       "       18.00111111, 14.37111111])"
      ]
     },
     "execution_count": 61,
     "metadata": {},
     "output_type": "execute_result"
    }
   ],
   "source": [
    "rfp = clf.predict(Xtst)\n",
    "rfp"
   ]
  },
  {
   "cell_type": "code",
   "execution_count": 175,
   "metadata": {},
   "outputs": [
    {
     "data": {
      "text/plain": [
       "array([70.74666667, 56.67444444, 43.87222222, ..., 15.36555556,\n",
       "       15.93777778, 14.03666667])"
      ]
     },
     "execution_count": 175,
     "metadata": {},
     "output_type": "execute_result"
    }
   ],
   "source": [
    "rfp = clf.predict(Xtst_scale)\n",
    "rfp"
   ]
  },
  {
   "cell_type": "code",
   "execution_count": 129,
   "metadata": {},
   "outputs": [],
   "source": [
    "from sklearn.model_selection import StratifiedKFold\n",
    "from sklearn.model_selection import cross_val_score,cross_val_predict\n",
    "from sklearn.metrics import mean_squared_error as mse"
   ]
  },
  {
   "cell_type": "code",
   "execution_count": 43,
   "metadata": {},
   "outputs": [
    {
     "data": {
      "text/plain": [
       "array([-1.28417197e+01,  7.61983793e-01,  7.88016338e-01,  6.53564714e-01,\n",
       "        7.94948953e-01,  7.44028641e-01,  6.77267193e-01,  9.55116196e-01,\n",
       "        2.00902376e-01,  4.85357504e-01,  6.54515372e-01,  5.94271319e-01,\n",
       "       -3.56301948e-01,  5.10866438e-01,  1.84621862e-01, -7.00278817e-02,\n",
       "       -4.25447595e-02, -2.64826411e-02,  1.42379815e-01,  1.79030592e-01,\n",
       "        2.71120229e-01,  2.14799215e-03, -5.44958563e-01,  2.45198223e-01,\n",
       "        8.01503081e-02])"
      ]
     },
     "execution_count": 43,
     "metadata": {},
     "output_type": "execute_result"
    }
   ],
   "source": [
    "crossval_scores = cross_val_score(RandomForestRegressor(), X, y,cv=25)\n",
    "cv_predict_val = cross_val_predict(RandomForestRegressor(),X,y,cv =25)\n",
    "rfc = RandomForestRegressor().fit(X,y)\n",
    "rfp = rfc.predict(Xtst)\n",
    "crossval_scores"
   ]
  },
  {
   "cell_type": "code",
   "execution_count": 44,
   "metadata": {},
   "outputs": [
    {
     "data": {
      "text/plain": [
       "array([70. , 55.4, 48.9, ..., 16.4, 18.2, 12.8])"
      ]
     },
     "execution_count": 44,
     "metadata": {},
     "output_type": "execute_result"
    }
   ],
   "source": [
    "rfp"
   ]
  },
  {
   "cell_type": "code",
   "execution_count": 35,
   "metadata": {},
   "outputs": [
    {
     "data": {
      "text/plain": [
       "array([21., 17., 18., ...,  6.,  6.,  6.])"
      ]
     },
     "execution_count": 35,
     "metadata": {},
     "output_type": "execute_result"
    }
   ],
   "source": [
    "rfp = clf.predict(Xtst)\n",
    "rfp"
   ]
  },
  {
   "cell_type": "code",
   "execution_count": 130,
   "metadata": {},
   "outputs": [
    {
     "data": {
      "text/plain": [
       "array([-1.22500499,  0.75254439, -0.08017302,  0.06779643, -0.98036299])"
      ]
     },
     "execution_count": 130,
     "metadata": {},
     "output_type": "execute_result"
    }
   ],
   "source": [
    "crossval_scores = cross_val_score(XGBRegressor(n_estimators = 300,max_depth =10,\n",
    "                            objective = 'reg:squarederror',njobs=-1), X, y,cv=5)\n",
    "cv_predict_val = cross_val_predict(RandomForestRegressor(),X,y,cv =5)\n",
    "xgc = XGBRegressor(n_estimators = 300,max_depth =10,\n",
    "                   objective = 'reg:squarederror',njobs=-1).fit(X,y)\n",
    "xgp = xgc.predict(Xtst)\n",
    "crossval_scores"
   ]
  },
  {
   "cell_type": "code",
   "execution_count": 131,
   "metadata": {},
   "outputs": [
    {
     "data": {
      "text/plain": [
       "array([71.936356, 58.201763, 47.493923, ..., 13.954833, 14.56861 ,\n",
       "       13.444924], dtype=float32)"
      ]
     },
     "execution_count": 131,
     "metadata": {},
     "output_type": "execute_result"
    }
   ],
   "source": [
    "xgp"
   ]
  },
  {
   "cell_type": "code",
   "execution_count": 150,
   "metadata": {},
   "outputs": [
    {
     "data": {
      "text/plain": [
       "3.5544238270656985"
      ]
     },
     "execution_count": 150,
     "metadata": {},
     "output_type": "execute_result"
    }
   ],
   "source": [
    "clf = XGBRegressor(n_estimators = 1000,max_depth =10,objective = 'reg:squarederror',\n",
    "                   njobs=-1)\n",
    "#clf = XGBRegressor(eval_metrics =mse,njobs=-1)\n",
    "clf.fit(X_train,y_train)\n",
    "xgp = clf.predict(X_val)\n",
    "math.sqrt(mse(y_val,xgp))"
   ]
  },
  {
   "cell_type": "code",
   "execution_count": 151,
   "metadata": {},
   "outputs": [
    {
     "data": {
      "text/plain": [
       "array([70.876396, 58.843487, 48.066753, ..., 19.192099, 20.885708,\n",
       "       18.007051], dtype=float32)"
      ]
     },
     "execution_count": 151,
     "metadata": {},
     "output_type": "execute_result"
    }
   ],
   "source": [
    "xgp = clf.predict(Xtst)\n",
    "xgp"
   ]
  },
  {
   "cell_type": "code",
   "execution_count": 148,
   "metadata": {},
   "outputs": [
    {
     "data": {
      "text/plain": [
       "4.524358699357012"
      ]
     },
     "execution_count": 148,
     "metadata": {},
     "output_type": "execute_result"
    }
   ],
   "source": [
    "clf = ltb.LGBMRegressor(njob=-1)\n",
    "clf.fit(X_train,y_train)\n",
    "lgp = clf.predict(X_val)\n",
    "math.sqrt(mse(y_val,lgp))"
   ]
  },
  {
   "cell_type": "code",
   "execution_count": 149,
   "metadata": {},
   "outputs": [
    {
     "data": {
      "text/plain": [
       "array([66.5395332 , 57.36012014, 47.50832683, ...,  9.91333807,\n",
       "        9.37819231,  7.76303341])"
      ]
     },
     "execution_count": 149,
     "metadata": {},
     "output_type": "execute_result"
    }
   ],
   "source": [
    "lgp = clf.predict(Xtst)\n",
    "lgp"
   ]
  },
  {
   "cell_type": "code",
   "execution_count": 54,
   "metadata": {},
   "outputs": [
    {
     "data": {
      "text/plain": [
       "array([70.89769508, 57.19745426, 45.81136533, ...,  9.1213052 ,\n",
       "       11.8498273 ,  9.05173622])"
      ]
     },
     "execution_count": 54,
     "metadata": {},
     "output_type": "execute_result"
    }
   ],
   "source": [
    "# ensemble models -- simple mean\n",
    "emp = (rfp+xgp+lgp) /3\n",
    "emp"
   ]
  },
  {
   "cell_type": "code",
   "execution_count": 124,
   "metadata": {},
   "outputs": [
    {
     "name": "stdout",
     "output_type": "stream",
     "text": [
      "[22:17:38] WARNING: C:/Jenkins/workspace/xgboost-win64_release_0.90/src/objective/regression_obj.cu:152: reg:linear is now deprecated in favor of reg:squarederror.\n",
      "[22:19:09] WARNING: C:/Jenkins/workspace/xgboost-win64_release_0.90/src/objective/regression_obj.cu:152: reg:linear is now deprecated in favor of reg:squarederror.\n"
     ]
    },
    {
     "data": {
      "text/plain": [
       "3.6696469600270705"
      ]
     },
     "execution_count": 124,
     "metadata": {},
     "output_type": "execute_result"
    }
   ],
   "source": [
    "# use stacking to ensemble multiple models to improve the score\n",
    "ridge = RidgeCV()\n",
    "#ds    = DecisionTreeRegressor(max_depth=25)\n",
    "rf    = RandomForestRegressor(n_estimators =900,max_depth=25,random_state=42)\n",
    "xgb   = XGBRegressor(n_estimators = 1000,max_depth =10,eval_metrics = mse,njobs=-1)\n",
    "stkreg = StackingRegressor(regressors=[xgb, ridge],meta_regressor=xgb)\n",
    "stkreg.fit(X_train,y_train)\n",
    "stenp = stkreg.predict(X_val)\n",
    "math.sqrt(mse(y_val,stenp))"
   ]
  },
  {
   "cell_type": "code",
   "execution_count": 125,
   "metadata": {},
   "outputs": [
    {
     "data": {
      "text/plain": [
       "array([68.87265 , 58.021633, 47.66754 , ..., 19.113052, 21.680197,\n",
       "       18.14938 ], dtype=float32)"
      ]
     },
     "execution_count": 125,
     "metadata": {},
     "output_type": "execute_result"
    }
   ],
   "source": [
    "stenp = stkreg.predict(Xtst)\n",
    "stenp"
   ]
  },
  {
   "cell_type": "code",
   "execution_count": 86,
   "metadata": {},
   "outputs": [
    {
     "data": {
      "text/html": [
       "<div>\n",
       "<style scoped>\n",
       "    .dataframe tbody tr th:only-of-type {\n",
       "        vertical-align: middle;\n",
       "    }\n",
       "\n",
       "    .dataframe tbody tr th {\n",
       "        vertical-align: top;\n",
       "    }\n",
       "\n",
       "    .dataframe thead th {\n",
       "        text-align: right;\n",
       "    }\n",
       "</style>\n",
       "<table border=\"1\" class=\"dataframe\">\n",
       "  <thead>\n",
       "    <tr style=\"text-align: right;\">\n",
       "      <th></th>\n",
       "      <th>ID</th>\n",
       "      <th>Vehicles</th>\n",
       "    </tr>\n",
       "  </thead>\n",
       "  <tbody>\n",
       "    <tr>\n",
       "      <th>0</th>\n",
       "      <td>20170701001</td>\n",
       "      <td>50</td>\n",
       "    </tr>\n",
       "    <tr>\n",
       "      <th>1</th>\n",
       "      <td>20170701011</td>\n",
       "      <td>50</td>\n",
       "    </tr>\n",
       "    <tr>\n",
       "      <th>2</th>\n",
       "      <td>20170701021</td>\n",
       "      <td>50</td>\n",
       "    </tr>\n",
       "    <tr>\n",
       "      <th>3</th>\n",
       "      <td>20170701031</td>\n",
       "      <td>50</td>\n",
       "    </tr>\n",
       "    <tr>\n",
       "      <th>4</th>\n",
       "      <td>20170701041</td>\n",
       "      <td>50</td>\n",
       "    </tr>\n",
       "  </tbody>\n",
       "</table>\n",
       "</div>"
      ],
      "text/plain": [
       "            ID  Vehicles\n",
       "0  20170701001        50\n",
       "1  20170701011        50\n",
       "2  20170701021        50\n",
       "3  20170701031        50\n",
       "4  20170701041        50"
      ]
     },
     "execution_count": 86,
     "metadata": {},
     "output_type": "execute_result"
    }
   ],
   "source": [
    "sub.head()"
   ]
  },
  {
   "cell_type": "code",
   "execution_count": 37,
   "metadata": {},
   "outputs": [],
   "source": [
    "knpdf = pd.DataFrame(knp)\n",
    "sub_df = sub['ID']\n",
    "sub_df = pd.concat([sub_df,knpdf],axis =1)\n",
    "sub_df.columns = ['ID','Vehicles']"
   ]
  },
  {
   "cell_type": "code",
   "execution_count": null,
   "metadata": {},
   "outputs": [],
   "source": [
    "svpdf = pd.DataFrame(svp)\n",
    "sub_df = sub['ID']\n",
    "sub_df = pd.concat([sub_df,svpdf],axis =1)\n",
    "sub_df.columns = ['ID','Vehicles']"
   ]
  },
  {
   "cell_type": "code",
   "execution_count": null,
   "metadata": {},
   "outputs": [],
   "source": [
    "dtpdf = pd.DataFrame(dtp)\n",
    "sub_df = sub['ID']\n",
    "sub_df = pd.concat([sub_df,dtpdf],axis =1)\n",
    "sub_df.columns = ['ID','Vehicles']"
   ]
  },
  {
   "cell_type": "code",
   "execution_count": 43,
   "metadata": {},
   "outputs": [],
   "source": [
    "rfpdf = pd.DataFrame(rfp)\n",
    "sub_df = sub['ID']\n",
    "sub_df = pd.concat([sub_df,rfpdf],axis =1)\n",
    "sub_df.columns = ['ID','Vehicles']"
   ]
  },
  {
   "cell_type": "code",
   "execution_count": 97,
   "metadata": {},
   "outputs": [],
   "source": [
    "xgpdf = pd.DataFrame(xgp)\n",
    "sub_df = sub['ID']\n",
    "sub_df = pd.concat([sub_df,xgpdf],axis =1)\n",
    "sub_df.columns = ['ID','Vehicles']"
   ]
  },
  {
   "cell_type": "code",
   "execution_count": 41,
   "metadata": {},
   "outputs": [],
   "source": [
    "lgpdf = pd.DataFrame(lgp)\n",
    "sub_df = sub['ID']\n",
    "sub_df = pd.concat([sub_df,lgpdf],axis =1)\n",
    "sub_df.columns = ['ID','Vehicles']"
   ]
  },
  {
   "cell_type": "code",
   "execution_count": 56,
   "metadata": {},
   "outputs": [],
   "source": [
    "empdf = pd.DataFrame(emp)\n",
    "sub_df = sub['ID']\n",
    "sub_df = pd.concat([sub_df,empdf],axis =1)\n",
    "sub_df.columns = ['ID','Vehicles']"
   ]
  },
  {
   "cell_type": "code",
   "execution_count": 126,
   "metadata": {},
   "outputs": [],
   "source": [
    "stenpdf = pd.DataFrame(stenp)\n",
    "sub_df = sub['ID']\n",
    "sub_df = pd.concat([sub_df,stenpdf],axis =1)\n",
    "sub_df.columns = ['ID','Vehicles']"
   ]
  },
  {
   "cell_type": "code",
   "execution_count": null,
   "metadata": {},
   "outputs": [],
   "source": [
    "sub_df.to_csv(r'E:\\Pattabhiraman\\Personal\\JHack-ioT\\sv01.csv', index=False)"
   ]
  },
  {
   "cell_type": "code",
   "execution_count": null,
   "metadata": {},
   "outputs": [],
   "source": [
    "sub_df.to_csv(r'E:\\Pattabhiraman\\Personal\\JHack-ioT\\dt01.csv', index=False)"
   ]
  },
  {
   "cell_type": "code",
   "execution_count": 44,
   "metadata": {},
   "outputs": [],
   "source": [
    "sub_df.to_csv(r'E:\\Pattabhiraman\\Personal\\JHack-ioT\\rf08.csv', index=False)"
   ]
  },
  {
   "cell_type": "code",
   "execution_count": 98,
   "metadata": {},
   "outputs": [],
   "source": [
    "sub_df.to_csv(r'E:\\Pattabhiraman\\Personal\\JHack-ioT\\xg04.csv', index=False)"
   ]
  },
  {
   "cell_type": "code",
   "execution_count": 42,
   "metadata": {},
   "outputs": [],
   "source": [
    "sub_df.to_csv(r'E:\\Pattabhiraman\\Personal\\JHack-ioT\\lg03.csv', index=False)"
   ]
  },
  {
   "cell_type": "code",
   "execution_count": 57,
   "metadata": {},
   "outputs": [],
   "source": [
    "sub_df.to_csv(r'E:\\Pattabhiraman\\Personal\\JHack-ioT\\em01.csv', index=False)"
   ]
  },
  {
   "cell_type": "code",
   "execution_count": 38,
   "metadata": {},
   "outputs": [],
   "source": [
    "sub_df.to_csv(r'E:\\Pattabhiraman\\Personal\\JHack-ioT\\knn01.csv', index=False)"
   ]
  },
  {
   "cell_type": "code",
   "execution_count": 127,
   "metadata": {},
   "outputs": [],
   "source": [
    "sub_df.to_csv(r'E:\\Pattabhiraman\\Personal\\JHack-ioT\\stenp03.csv', index=False)"
   ]
  },
  {
   "cell_type": "code",
   "execution_count": null,
   "metadata": {},
   "outputs": [],
   "source": []
  }
 ],
 "metadata": {
  "kernelspec": {
   "display_name": "Python 3",
   "language": "python",
   "name": "python3"
  },
  "language_info": {
   "codemirror_mode": {
    "name": "ipython",
    "version": 3
   },
   "file_extension": ".py",
   "mimetype": "text/x-python",
   "name": "python",
   "nbconvert_exporter": "python",
   "pygments_lexer": "ipython3",
   "version": "3.7.3"
  }
 },
 "nbformat": 4,
 "nbformat_minor": 2
}
